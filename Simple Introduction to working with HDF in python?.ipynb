{
 "metadata": {
  "celltoolbar": "Slideshow",
  "name": "",
  "signature": "sha256:f946f1db36e996d69246b2de98a3eb9fbf117fc3d5528dfe64c0b83272849f16"
 },
 "nbformat": 3,
 "nbformat_minor": 0,
 "worksheets": [
  {
   "cells": [
    {
     "cell_type": "heading",
     "level": 1,
     "metadata": {
      "slideshow": {
       "slide_type": "slide"
      }
     },
     "source": [
      "Simple Introduction to Working with HDF in python?"
     ]
    },
    {
     "cell_type": "markdown",
     "metadata": {
      "slideshow": {
       "slide_type": "fragment"
      }
     },
     "source": [
      " by [Sukhbinder Singh](http://www.sukhbindersingh.com)   \n",
      " \n",
      " \n",
      " Available on twitter as [@aerogeek](http://www.twitter.com/aerogeek) "
     ]
    },
    {
     "cell_type": "heading",
     "level": 2,
     "metadata": {
      "slideshow": {
       "slide_type": "fragment"
      }
     },
     "source": [
      "Before we start, lets learn what is hdf? "
     ]
    },
    {
     "cell_type": "heading",
     "level": 1,
     "metadata": {
      "slideshow": {
       "slide_type": "slide"
      }
     },
     "source": [
      "What is HDF?"
     ]
    },
    {
     "cell_type": "heading",
     "level": 4,
     "metadata": {
      "slideshow": {
       "slide_type": "fragment"
      }
     },
     "source": [
      "HDF stands for Hierarchical Data Format. "
     ]
    },
    {
     "cell_type": "heading",
     "level": 4,
     "metadata": {
      "slideshow": {
       "slide_type": "fragment"
      }
     },
     "source": [
      "HDF, HDF4, or HDF5 is a set of file formats and libraries designed to store and organize *large amounts* of numerical data. "
     ]
    },
    {
     "cell_type": "heading",
     "level": 4,
     "metadata": {
      "slideshow": {
       "slide_type": "fragment"
      }
     },
     "source": [
      "Originally developed at the National Center for Supercomputing Applications, it is supported by the non-profit HDF Group."
     ]
    },
    {
     "cell_type": "heading",
     "level": 2,
     "metadata": {
      "slideshow": {
       "slide_type": "slide"
      }
     },
     "source": [
      "What is HDF?"
     ]
    },
    {
     "cell_type": "markdown",
     "metadata": {
      "slideshow": {
       "slide_type": "fragment"
      }
     },
     "source": [
      "HDF5 format supports any kind of data for digital storage regardless of their origin.\n"
     ]
    },
    {
     "cell_type": "markdown",
     "metadata": {
      "slideshow": {
       "slide_type": "fragment"
      }
     },
     "source": [
      "The format is **platform independent** and is widely used in **scientific codes**.\n"
     ]
    },
    {
     "cell_type": "markdown",
     "metadata": {
      "slideshow": {
       "slide_type": "fragment"
      }
     },
     "source": [
      "HDF5 allows inclusion of **metadata** and **attribute**."
     ]
    },
    {
     "cell_type": "markdown",
     "metadata": {
      "slideshow": {
       "slide_type": "fragment"
      }
     },
     "source": [
      "HDF5 is highly efficient **chunked** input output operations.\n"
     ]
    },
    {
     "cell_type": "markdown",
     "metadata": {
      "slideshow": {
       "slide_type": "fragment"
      }
     },
     "source": [
      "![NCSA](http://upload.wikimedia.org/wikipedia/commons/thumb/a/a8/New_NCSA_Building_UIUC_by_Ragib.jpg/640px-New_NCSA_Building_UIUC_by_Ragib.jpg)"
     ]
    },
    {
     "cell_type": "heading",
     "level": 2,
     "metadata": {
      "slideshow": {
       "slide_type": "slide"
      }
     },
     "source": [
      "HDF5 stores data in a highly organised and hierarchical format"
     ]
    },
    {
     "cell_type": "heading",
     "level": 3,
     "metadata": {
      "slideshow": {
       "slide_type": "fragment"
      }
     },
     "source": [
      "HDF5 data model consists of two major objects, Datasets and Groups."
     ]
    },
    {
     "cell_type": "markdown",
     "metadata": {
      "slideshow": {
       "slide_type": "fragment"
      }
     },
     "source": [
      "![](http://www.hdfgroup.org/HDF5/doc/UG/Images/Group_fig1.jpg)"
     ]
    },
    {
     "cell_type": "heading",
     "level": 1,
     "metadata": {
      "slideshow": {
       "slide_type": "slide"
      }
     },
     "source": [
      "\n",
      "So now we know what is HDF, so lets begin using it in python."
     ]
    },
    {
     "cell_type": "heading",
     "level": 1,
     "metadata": {
      "slideshow": {
       "slide_type": "fragment"
      }
     },
     "source": [
      "But Wait........"
     ]
    },
    {
     "cell_type": "heading",
     "level": 1,
     "metadata": {
      "slideshow": {
       "slide_type": "slide"
      }
     },
     "source": [
      "For that we need the pytables library"
     ]
    },
    {
     "cell_type": "markdown",
     "metadata": {
      "slideshow": {
       "slide_type": "fragment"
      }
     },
     "source": [
      "PyTables is a package for managing hierarchical datasets and designed to efficiently and easily cope with extremely large amounts of data. \n",
      "\n"
     ]
    },
    {
     "cell_type": "markdown",
     "metadata": {
      "slideshow": {
       "slide_type": "fragment"
      }
     },
     "source": [
      "PyTables is built on top of the HDF5 library, using the Python language and the NumPy package.\n"
     ]
    },
    {
     "cell_type": "markdown",
     "metadata": {
      "slideshow": {
       "slide_type": "fragment"
      }
     },
     "source": [
      "You can [download PyTables](http://pytables.github.io/latest/downloads.html) and use it for free.\n"
     ]
    },
    {
     "cell_type": "heading",
     "level": 1,
     "metadata": {
      "slideshow": {
       "slide_type": "slide"
      }
     },
     "source": [
      "Ok now let's start..."
     ]
    },
    {
     "cell_type": "markdown",
     "metadata": {
      "slideshow": {
       "slide_type": "slide"
      }
     },
     "source": [
      "Import pytable "
     ]
    },
    {
     "cell_type": "code",
     "collapsed": false,
     "input": [
      "import tables as tb"
     ],
     "language": "python",
     "metadata": {
      "slideshow": {
       "slide_type": "fragment"
      }
     },
     "outputs": [],
     "prompt_number": 14
    },
    {
     "cell_type": "markdown",
     "metadata": {
      "slideshow": {
       "slide_type": "fragment"
      }
     },
     "source": [
      "We will use **test.hdf** file for this simple tutorial."
     ]
    },
    {
     "cell_type": "code",
     "collapsed": false,
     "input": [
      "data = tb.openFile(\"test.hdf\",\"r\")"
     ],
     "language": "python",
     "metadata": {
      "slideshow": {
       "slide_type": "fragment"
      }
     },
     "outputs": [],
     "prompt_number": 15
    },
    {
     "cell_type": "markdown",
     "metadata": {
      "slideshow": {
       "slide_type": "fragment"
      }
     },
     "source": [
      "We use openFile command to open a given HDF5 file and return a File object. The second argument can be \"r\",\"a\",\"w\" etc for read,append and write respectively"
     ]
    },
    {
     "cell_type": "markdown",
     "metadata": {
      "slideshow": {
       "slide_type": "slide"
      }
     },
     "source": [
      "Lets see what's there in this hdf file."
     ]
    },
    {
     "cell_type": "code",
     "collapsed": false,
     "input": [
      "print data\n"
     ],
     "language": "python",
     "metadata": {
      "slideshow": {
       "slide_type": "fragment"
      }
     },
     "outputs": [
      {
       "output_type": "stream",
       "stream": "stdout",
       "text": [
        "test.hdf (File) ''\n",
        "Last modif.: 'Tue May 27 17:46:41 2014'\n",
        "Object Tree: \n",
        "/ (RootGroup) ''\n",
        "/dd (Array(100,)) ''\n",
        "/xxarray (Array(1000, 10)) ''\n",
        "/somegroup (Group) 'this is a new group'\n",
        "/somegroup/xxarray (Array(1000, 1000)) ''\n",
        "\n"
       ]
      }
     ],
     "prompt_number": 16
    },
    {
     "cell_type": "markdown",
     "metadata": {
      "slideshow": {
       "slide_type": "fragment"
      }
     },
     "source": [
      "There is a rootgroup which has dd array of size 100 and xxarray of size (1000,10) and *somegroup* group which has xxarray of size(1000,1000)"
     ]
    },
    {
     "cell_type": "markdown",
     "metadata": {
      "slideshow": {
       "slide_type": "fragment"
      }
     },
     "source": [
      "**/**   represents the root group"
     ]
    },
    {
     "cell_type": "markdown",
     "metadata": {
      "slideshow": {
       "slide_type": "slide"
      }
     },
     "source": [
      "Structure similar to the picture we saw before"
     ]
    },
    {
     "cell_type": "markdown",
     "metadata": {
      "slideshow": {
       "slide_type": "fragment"
      }
     },
     "source": [
      "![](http://www.hdfgroup.org/HDF5/doc/UG/Images/Group_fig1.jpg)"
     ]
    },
    {
     "cell_type": "heading",
     "level": 1,
     "metadata": {
      "slideshow": {
       "slide_type": "slide"
      }
     },
     "source": [
      "So we know the data and the groups it is reciding in. How to access that?"
     ]
    },
    {
     "cell_type": "markdown",
     "metadata": {
      "slideshow": {
       "slide_type": "fragment"
      }
     },
     "source": [
      "But before that lets load matplotlib so we can plot the accessed data "
     ]
    },
    {
     "cell_type": "code",
     "collapsed": false,
     "input": [
      "import matplotlib.pyplot as plt\n",
      "%matplotlib inline"
     ],
     "language": "python",
     "metadata": {
      "slideshow": {
       "slide_type": "fragment"
      }
     },
     "outputs": [],
     "prompt_number": 21
    },
    {
     "cell_type": "heading",
     "level": 1,
     "metadata": {
      "slideshow": {
       "slide_type": "slide"
      }
     },
     "source": [
      "To access elements in the file use the getNode command"
     ]
    },
    {
     "cell_type": "code",
     "collapsed": false,
     "input": [
      "l=plt.plot(data.getNode(\"/\",\"dd\"))"
     ],
     "language": "python",
     "metadata": {
      "slideshow": {
       "slide_type": "fragment"
      }
     },
     "outputs": [
      {
       "metadata": {},
       "output_type": "display_data",
       "png": "[encoded data removed]",
       "text": [
        "<matplotlib.figure.Figure at 0x106b01810>"
       ]
      }
     ],
     "prompt_number": 20
    },
    {
     "cell_type": "heading",
     "level": 4,
     "metadata": {
      "slideshow": {
       "slide_type": "fragment"
      }
     },
     "source": [
      "GetNode command takes two arguments\n",
      "<br><br>\n",
      "Where and What"
     ]
    },
    {
     "cell_type": "heading",
     "level": 4,
     "metadata": {
      "slideshow": {
       "slide_type": "fragment"
      }
     },
     "source": [
      "getNode(where, what) \n",
      "\n",
      "<br><br>\n",
      "from where and <br>\n",
      "what has to retrived."
     ]
    },
    {
     "cell_type": "heading",
     "level": 1,
     "metadata": {
      "slideshow": {
       "slide_type": "slide"
      }
     },
     "source": [
      "Ok lets now grab xxarray in 'somegroup' and find the sum of the 1000 by 1000 array"
     ]
    },
    {
     "cell_type": "code",
     "collapsed": false,
     "input": [
      "#load numpy\n",
      "import numpy as np"
     ],
     "language": "python",
     "metadata": {
      "slideshow": {
       "slide_type": "fragment"
      }
     },
     "outputs": [],
     "prompt_number": 9
    },
    {
     "cell_type": "code",
     "collapsed": false,
     "input": [
      "print np.sum(data.getNode(\"/somegroup\",\"xxarray\"))"
     ],
     "language": "python",
     "metadata": {
      "slideshow": {
       "slide_type": "fragment"
      }
     },
     "outputs": [
      {
       "output_type": "stream",
       "stream": "stdout",
       "text": [
        "5004733.31628\n"
       ]
      }
     ],
     "prompt_number": 32
    },
    {
     "cell_type": "markdown",
     "metadata": {
      "slideshow": {
       "slide_type": "fragment"
      }
     },
     "source": [
      "Notice the **/** in the Where portion of the getNode."
     ]
    },
    {
     "cell_type": "heading",
     "level": 4,
     "metadata": {
      "slideshow": {
       "slide_type": "slide"
      }
     },
     "source": [
      "We can also walk through all the nodes with for loop."
     ]
    },
    {
     "cell_type": "code",
     "collapsed": false,
     "input": [
      "for node in data.walkNodes():\n",
      "    print node"
     ],
     "language": "python",
     "metadata": {
      "slideshow": {
       "slide_type": "fragment"
      }
     },
     "outputs": [
      {
       "output_type": "stream",
       "stream": "stdout",
       "text": [
        "/ (RootGroup) ''\n",
        "/dd (Array(100,)) ''\n",
        "/somegroup (Group) 'this is a new group'\n",
        "/xxarray (Array(1000, 10)) ''\n",
        "/somegroup/xxarray (Array(1000, 1000)) ''\n"
       ]
      }
     ],
     "prompt_number": 33
    },
    {
     "cell_type": "heading",
     "level": 1,
     "metadata": {
      "slideshow": {
       "slide_type": "slide"
      }
     },
     "source": [
      "We can also walk through all the groups with for loop"
     ]
    },
    {
     "cell_type": "code",
     "collapsed": false,
     "input": [
      "for group in data.walkGroups():\n",
      "    print group"
     ],
     "language": "python",
     "metadata": {
      "slideshow": {
       "slide_type": "fragment"
      }
     },
     "outputs": [
      {
       "output_type": "stream",
       "stream": "stdout",
       "text": [
        "/ (RootGroup) ''\n",
        "/somegroup (Group) 'this is a new group'\n"
       ]
      }
     ],
     "prompt_number": 34
    },
    {
     "cell_type": "heading",
     "level": 1,
     "metadata": {
      "slideshow": {
       "slide_type": "slide"
      }
     },
     "source": [
      "Once we have found the desired Array, we can use the read() command\n"
     ]
    },
    {
     "cell_type": "code",
     "collapsed": false,
     "input": [
      "xarray = data.getNode(\"/\",\"xxarray\").read()"
     ],
     "language": "python",
     "metadata": {
      "slideshow": {
       "slide_type": "fragment"
      }
     },
     "outputs": [],
     "prompt_number": 27
    },
    {
     "cell_type": "markdown",
     "metadata": {
      "slideshow": {
       "slide_type": "fragment"
      }
     },
     "source": [
      "lets look at xarray"
     ]
    },
    {
     "cell_type": "code",
     "collapsed": false,
     "input": [
      "print xxarray.shape\n",
      "print xxarray[:10,:4]"
     ],
     "language": "python",
     "metadata": {
      "slideshow": {
       "slide_type": "fragment"
      }
     },
     "outputs": [
      {
       "output_type": "stream",
       "stream": "stdout",
       "text": [
        "(1000, 10)\n",
        "[[ 37.65124901  66.32351938  26.63416963  16.65826532]\n",
        " [ 98.94743049  82.64344691  91.08102543  94.67738448]\n",
        " [ 58.44255102  21.29901262  66.38514329  51.73292396]\n",
        " [ 31.51240632  81.57204173  49.28576672  68.90711896]\n",
        " [  0.69827242  73.19891575  28.26325399  94.32989173]\n",
        " [ 49.33902333  36.06414164  12.88478684  77.96042142]\n",
        " [ 42.42653654  68.19470728  91.70381558  20.89961624]\n",
        " [ 76.69672676  98.17104868  65.40370551  52.33994386]\n",
        " [ 57.81297935  20.31001171   0.19128739  81.94616451]\n",
        " [ 15.77061071  72.08482339  66.38717341   9.50811376]]\n"
       ]
      }
     ],
     "prompt_number": 35
    },
    {
     "cell_type": "heading",
     "level": 1,
     "metadata": {
      "slideshow": {
       "slide_type": "slide"
      }
     },
     "source": [
      "That's it. "
     ]
    },
    {
     "cell_type": "markdown",
     "metadata": {
      "slideshow": {
       "slide_type": "fragment"
      }
     },
     "source": [
      "For more info on HDF5 visit"
     ]
    },
    {
     "cell_type": "markdown",
     "metadata": {
      "slideshow": {
       "slide_type": "fragment"
      }
     },
     "source": [
      "http://www.hdfgroup.org/HDF5/doc/UG/UG_frame09Groups.html"
     ]
    },
    {
     "cell_type": "markdown",
     "metadata": {
      "slideshow": {
       "slide_type": "fragment"
      }
     },
     "source": [
      "For more info on pytables visit"
     ]
    },
    {
     "cell_type": "markdown",
     "metadata": {
      "slideshow": {
       "slide_type": "fragment"
      }
     },
     "source": [
      "http://pytables.github.io/latest/usersguide/tutorials.html"
     ]
    },
    {
     "cell_type": "heading",
     "level": 1,
     "metadata": {
      "slideshow": {
       "slide_type": "slide"
      }
     },
     "source": [
      "Thank you."
     ]
    },
    {
     "cell_type": "heading",
     "level": 3,
     "metadata": {
      "slideshow": {
       "slide_type": "fragment"
      }
     },
     "source": [
      "Be sure see other interesting  python related material on [my blog](http://sukhbinder.wordpress.com/category/python/)"
     ]
    }
   ],
   "metadata": {}
  }
 ]
}