{
 "metadata": {
  "name": "",
  "signature": "sha256:060568f5cffddd758890fd06eadbb6225ba970d7a45a2386561aceef55c24c18"
 },
 "nbformat": 3,
 "nbformat_minor": 0,
 "worksheets": [
  {
   "cells": [
    {
     "cell_type": "markdown",
     "metadata": {},
     "source": [
      "#Speech Analysis#\n",
      "Well I missed the speech of PM Modi but wanted to read it. So found the entire text of the spech at pib.nic.in. As i neared the end, wanted to know the word frequency. With python it was so easy!!!\n",
      "\n",
      "\n",
      "Check for yourself. Here's five lines that gave the answer.\n"
     ]
    },
    {
     "cell_type": "code",
     "collapsed": false,
     "input": [
      "#url  http://pib.nic.in/newsite/erelease.aspx?relid=29937\n",
      "indispeech=\"\"\"\n",
      " My dear countrymen,\n",
      "            Today, all Indians in the country and also abroad are celebrating the festival of independence. On this day of sacred festival of independence, the prime servant of India extends greetings to all dear countrymen.\n",
      "            I am present amidst you not as the Prime Minister, but as the Prime Servant. The freedom struggle was fought for so many years, so many generations laid down their lives, innumerable people sacrificed their lives and youth, spent their entire lives behind bars. Today, I pay my respect, greetings and homage to all those who laid their lives for the country`s independence.\n",
      "            I also pay my respects to the crores of citizens of this country on the pious occasion of India`s independence, and recall all those martyrs who had laid down their lives in India`s struggle for freedom. The day of independence is a festival when we take a solemn pledge of working for the welfare of mother India, and also for the welfare of the poor, oppressed, dalits, the exploited & the backward people of our country.\n",
      "            My dear countrymen, a national festival is an occasion to refine and rebuild the national character. This National festival inspires us to resolve ourselves to lead a life where our character gets refined further, to dedicate ourselves to the nation and our every activity is linked to the interest of the nation and only then this festival of freedom can be a festival of inspiration to take India to newer heights.\n",
      "My dear countrymen, this nation has neither been built by political leaders nor by rulers nor by governments. This nation has been built by our farmers, our workers, our mothers and sisters, our youth. The country has reached here today because of generation to generation rigours undertaken by our sages, our saints, our maestros, our teachers, our scientists and social workers. These great people and these great generations, who had worked for the country throughout their lives, deserve our deepest respect. This is the beauty of India`s Constitution, this is its capability which has made it possible that today a boy from small town, a poor family has got the opportunity to pay homage to the tri-colour of India at the ramparts of Lal Quila (Red Fort). This is the strength of India`s democracy. This is an invaluable legacy which we have inherited from our architects of the constitution. I pay my respects to those architects of the constitution of India today.\n",
      "Brothers and sisters, today if we have reached here after independence, it is because of the contribution of all the Prime Ministers, all the governments and even the governments of all the States. I want to express my feelings of respect and gratitude to all those previous governments and ex-Prime Ministers who have endeavoured to take our present day India to such heights and who have added to the country`s glory.\n",
      "            This country has been built on such foundation of ancient cultural heritage, where we were told of only one mantra during Vedic period, which is indicative of our work culture, which we have learnt, we have memorized \u2013 \u201cSangachchhdhvam Samvadadhvam sam wo manansi jaanataam.\u201d We walk together, we move together, we think together, we resolve together and together we take this country forward. Having imbibed this basic mantra, 125 crores of countrymen have taken the nation forward. Yesterday only the first Parliamentary Session of the new Government had concluded. Today, I can proudly say that the Session of Parliament reflects our thinking and it is a reflection of our intentions. We are not for moving forward on the basis of majority, we are not interested to move forward by virtue of majority. We want to move ahead on the basis of strong consensus. \"Sangachhadhwam\" and, therefore, the nation has witnessed the entire Session of Parliament. Having taken all the Parties and Opposition along while working shoulder to shoulder, we achieved an unprecedented success and the credit for this does not go to the Prime Minister alone, the credit does not go to the people sitting in the Government, the credit for this goes to the Opposition also, the credit goes to all the leaders of Opposition too and also all the Members from Opposition. From the ramparts of Red Fort, quite proudly I salute all the Members of Parliament, I also salute all the Political Parties and by virtue of their strong support, we could take some important decisions intended to take the nation forward and yesterday the Session of Parliament had concluded.\n",
      "Brothers and sisters, I am an outsider for Delhi, I am not a native of Delhi. I have no idea about the administration and working of this place. I have been quite isolated from the elite class of this place but during the last two months while being an outsider, I had an insider view and I was astonished. It is not a political platform, rather it is a platform of a national policy and, therefore, my views should not be evaluated from a political perspective. I have already said, I salute all the ex-Prime Ministers and earlier governments who have brought the country thus far. But I am going to say something else and it may not be seen from political point of view. When I came to Delhi and noticed an insider view, I felt what it was and I was surprised to see it. It seemed as if dozens of separate governments are running at the same time in one main government. It appeared that everyone has its own fiefdom. I could observe disunity and conflict among them. One department is taking on the other department and taking on to the extent that two departments of the same government are fighting against each other by approaching Supreme Court.This disunity, this conflict among people of the same country! How come we can take the country forward? And that is why I have started making efforts for razing those walls; I have started making efforts at making the Government,  not an assembled entity, but an organic unity, an organic entity, a harmonious whole- with one aim, one mind, one direction, one energy. Let`s resolve to steer the country to one destination. We have it in us to move in that direction. A few days back...Nowadays newspapers are full of news that Modiji`s Government has come, officers are reaching office on time, offices open in time, and people get there in time. I observed that India`s National newspapers, TV media were carrying these news items prominently. As the Head of the Government I could have derived pleasure in the fact that everything started going on time, cleanliness got the attention, but I was not taking pleasure, I was feeling pained. That thing, I want to tell today in public. And why, because if government officers arrive office in time, does that make a news? And if that makes news, it shows how low we have fallen. It becomes a proof of that, and that`s how, brothers and sisters, the governments have run? Today  in the face of global competition,  when we have to realize the dreams of millions of Indians,  the country cannot run on the lines of \" it happens\", \" it goes\". In order to fulfil the aspirations of masses, we have to sharpen the tool called the Government machinery, we have to make it keen, more dynamic, and it is in this direction that we are \n",
      "working. My countrymen, it`s not long since I have come from outside Delhi, but I give you an assurance that the people in the Government are very capable - from the peon to the Cabinet Secretary, everybody is capable, everybody has a power, they have experience. I want to awaken that power, I want to unite that power and want to accelerate the pace of the welfare of nation through that power and I shall definitely do it. I want to assure the countrymen that we will achieve that, we will definitely do that. I could not say this on 16th May, but today after my experience of two-two and half months, keeping the tricolor as witness, I am saying on 15th of August that it is possible, it will be achieved.\n",
      "            Brothers and sisters, time has come to give a serious thought to the fact that whether we have a duty to create India of the dreams of those great people who gave us freedom, whether we have a national character? \n",
      "Brothers and sisters, can someone please tell me as to whether he or she has ever introspected in the evening after a full day`s work as to whether his or her acts have helped the poor of the country or not, whether his or her actions have resulted in safeguarding the interest of the country or not, whether the actions have been directed in country`s welfare or not? Whether it should not be the motto of one and a quarter billion countrymen that every step in life should be in the country`s interests? Unfortunately, we have an environment today wherein if you approach anyone with some work, he begins by saying \"what does it mean for me?\" He begins by saying \"what does it involve for me?\" and when he come to know that it does not entail any benefit for him, immediately he says \"why should I bother?\" we have to rise above the feelings of \"what does it mean for me\" and \"why should I bother\". Everything is not for self interest only. There are certain things which are meant for the country and we have to refine this national character. We have to rise above the feelings of \"why should I bother\" and \"what does it mean for me\" and instead we have to think that \"I am for nation`s interest and in this field, I am going to lead\". We have to inculcate this sentiment.\n",
      "            Brothers and sisters, when we hear about the incidents of rape, we hang our heads in shame. People come out with different arguments, someone indulges in psycho analysis, but brothers and sisters, today from this platform, I want to ask those parents, I want to ask every parent that you have a daughter of 10 or 12 years age, you are always on the alert, every now and then you keep on asking where are you going, when would you come back, inform immediately after you reach. Parents ask their daughters hundreds of questions, but have any parents ever dared to ask their son as to where he is going, why he is going out, who his friends are. After all, a rapist is also somebody`s son. He also has parents. As parents, have we ever asked our son as to what he is doing and where he is going. If every parent decides to impose as many restrictions on the sons as have been imposed on our daughters, try to do this with your sons, try to ask such questions of them.\n",
      "My dear brothers and sisters, the law will take its own course, strict action will be taken, but as a member of the society, as parents, we also have some responsibilities. If somebody tells me that those who have taken guns on their shoulders and kill innocent people are maoists, are terrorists, but they are also somebody`s children. I would like to ask of such parents if they had ever asked their children as to why they were taking a wrong path. Every parent must take this responsibility, he must know that his misguided son is bent on killing innocent people. He is not able to serve himself nor his family nor the country. I want to say to those youngsters who have chosen the path of violence that whatever they are and wherever they are, it is all because of mother India only that they have got it. Whoever you are it is all because of your parents. I want to ask you to think how green, how beautiful and how beneficial this earth can become if you shoulder the plough instead of the gun which spills blood on this land. How long shall we have bloodshed on this land, how long shall we take the lives of the innocent people and what have we got after all this? The path of violence has not yielded anything to us.\n",
      "            Brothers and sisters, I had gone to Nepal recently. There I said something publicly to draw the attention of the whole world. There was a time when the Emperor Ashoka who had chosen the path of wars, got converted to the path of Buddha at the sight of violence. There was a time in Nepal when their youngsters had opted for the path of violence but today I witness that the same youngsters are waiting for their constitution. The same people associated with them are framing the constitution. And I further said that if Nepal could present the best example of moving from the weapons to the books then it could provide inspiration to the youngsters in the world to abandon the path of violence.\n",
      "            Brothers and sisters, If Nepal, land of Budha, can give message to the world then why can`t India too do the same? So it`s the call of the hour that we renounce the path of violence and take the path of brotherhood.\n",
      " Brothers and sisters, for one reason or the other, we have had communal tensions for ages. This led to the division of the country. Even after Independence, we have had to face the poison of casteism and communalism. How long these evils will continue? Whom does it benefit? We have had enough of fights, many have been killed. Friends, look behind and you will find that nobody has benefited from it. Except casting a slur on Mother India, we have done nothing. Therefore, I appeal to all those people that whether it is the poison of casteism, communalism, regionalism, discrimination on social and economic basis, all these are obstacles in our way forward. Let`s resolve for once in our hearts, let`s put a moratorium on all such activities for ten years, we shall march ahead to a society which will be free from all such tensions. And you will see that how much strength we get from peace, unity, goodwill and brotherhood. Let`s experiment it for once.\n",
      "My dear countrymen, believe in my words, I do assure you. Shun all the sins committed so far, give up that way, follow the way of goodwill and brotherhood, and let`s resolve to take the country forward. I believe we can do that.\n",
      "With advancement of science, brothers and sisters, we have a  rising feeling of modernity in our mind, but what do we do? Have we ever thought what the sex ratio in the country is like? 940 girls are born against per thousand boys. Who is causing this imbalance in the society? Certainly not God. I request the doctors not to kill the girl growing in the womb of a mother just to line their own pockets.  I advise mothers and sisters not to sacrifice daughters in the hope of son. Sometimes mother-father feel tempted to have son in the hope of supporting them in old age. I am a person who has worked in public life. I have come across families with five sons, each having bungalows, access to fleet of cars, but parents are forced to live in old-age homes, Vriddhashrams.  I have seen such families. I have also seen families with only daughter as progeny, that daughter sacrifices her dreams, doesn`t get married, and spends entire life in taking care of old parents.  This disparity points to female foeticide and the polluted and tainted mind the 21st century has. We will have to liberate from it, and that is message to us of this Freedom festival. \n",
      "Recently Commonwealth Games were organized. Indian sportspersons brought glory to the country. Nearly 64 of our sportspersons won. Our sportspersons brought 64 medals. But of them 29 are girls. Let`s feel proud and clap for them. Girls also contribute to India`s fame and glory. Let`s recognise it. Let`s take them along, shoulder to shoulder. This way we can get over the evils that have crept in social life. Therefore, brothers and sisters, we have to proceed in that direction as a social and national character. Brothers and Sisters, Development is the only way forward for the country. Good governance is the only way. There are only these two tracks to take the country forward - good governance and development, we can move forward only by taking them with us. We wish to move forward with the intent of taking them with us. When I talk of good governance, you tell me, when I ask a person in private job, he tells that he does the job; when you ask the same from a person in government job, he says that I do the service. Both earn, but for one it is job while for the other it is service. I ask a question from all brothers and sisters in government service, whether the word \u201cService\u201d has not lost its strength, its identity? Persons in government service are not doing \u201cjob\u201d, they are doing \u201cservice\u201d. We have to revive this feeling, we have to take this feeling forward as a national character, we have to move forward in this direction.\n",
      "            Brothers and Sisters, whether the citizens of the country should take steps for the welfare of the nation or not? You imagine, if this 125 crores of countrymen move one step forward, then the country moves 125 crore steps forward. The meaning of democracy is not just limited to electing a government, but its meaning is that 125 crore of citizens work together joining shoulder with the government to fulfill hopes and aspirations of the country, this is the meaning of democracy. We have to create partnership with the people. We have to proceed under Public-Private Partnership. We have to proceed along with the participation of the people. But, please tell me why our farmers commit suicide? A farmer takes loan from the moneylender, but fails to repay his loans. He takes loan for the wedding of his daughter, but fails to repay. He will have to suffer hardships during his whole life. He chooses to commit suicide. Who will save the poor families of such farmers?\n",
      "Brothers and sisters, I have come here with a pledge to launch a scheme on this festival of Freedom. It will be called `Pradhanmantri Jan-Dhan Yojana`. I wish to connect the poorest citizens of the country with the facility of bank accounts through this yojana. There are millions of families who have mobile phones but no bank accounts. We have to change this scenario. Economic resources of the country should be utilized for the well-being of the poor. The change will commence from this point. This yojana will open the window. Therefore, an account holder under `Pradhanmantri Jan-Dhan Yojana` will be given a debit card. An insurance of One Lakh Rupees will be guaranteed with that debit card for each poor family, so that such families are covered with the insurance of One Lakh Rupees in case of any crisis in their lives.\n",
      "  My brothers and sisters, it is a country of young people. The 65 percent population of the country happens to be under the age of 35 years. Our country has the largest number of youths in the world. Have we ever thought of deriving an advantage out of it? Today, the world needs a skilled workforce. Today, India also needs a skilled workforce. At times, we look for a good driver but he is not available, we look for a plumber, but he is not available. If we need a good cook, he is not available. We have young people, they are unemployed but the kind of young people we seek for are not available. If we have to promote the development of our country then our mission has to be `skill development` and `skilled India`. Millions and Millions of Indian youth should go for acquisition of skills and there should be a network across the country for this and not the archaic systems. They should acquire the skills which could contribute towards making India a modern country. Whenever they go to any country in the world, their skills must be appreciated and we want to go for a two pronged development. I also want to create a pool of young people who are able to create jobs and the ones who are not capable of creating jobs and do not have the opportunities, they must be in a position to face their counterparts in any corner of the world while keeping their heads high by virtue of their hard work and their dexterity of hands and win the hearts of people around the world through their skills. We want to go for the capacity building of such young people. My brothers and sisters, having taken a resolve to enhance the skill development at a highly rapid pace, I want to accomplish this.\n",
      "            Brothers and sisters, the world has undergone a change. My dear countrymen, the world has changed. Now India can not decide its future by remaining isolated and sitting alone in a corner. The economics of the world have changed and, therefore, we will have to act accordingly. Government have taken many decisions recently, made some announcements in the budget and I call upon the world and call upon the Indians spread world over that if we have to provide more and more employment to the youth, we will have to promote manufacturing sector. If we have to develop a balance between imports and exports, we will have to strengthen manufacturing sector. If we have to put in use the education, the capability of the youth, we will have to go for manufacturing sector and for this Hindustan also will have to lend its full strength, but we also invite world powers. Therefore I want to appeal all the people world over, from the ramparts of the Red Fort, \"Come, make in India\", \"Come, manufacture in India\". Sell in any country of the world but manufacture here. We have got skill, talent, discipline, and determination to do something. We want to give the world an favourable opportunity that come here, \"Come, Make in India\" and we will say to the world, from electrical to electronics, \"Come, Make in India\", from automobiles to agro value addition \"Come, Make in India\", paper or plastic, \"Come, Make in India\", satellite or submarine \"Come, Make in India\". Our country is powerful. Come, I am giving you an invitation.\n",
      "            Brothers and sisters, I want to call upon the youth of the country, particularly the small people engaged in the industrial sector. I want to call upon the youth working in the field of technical education in the country. As I say to the world \"Come, Make in India\", I say to the youth of the country - it should be our dream that this message reaches every corner of the world, \"Made in India\". This should be our dream. Whether, to serve the country, is it necessary for the youth of the country to be hanged like Bhagat Singh? Brothers and sisters, Lal Bahadur Shastri had given the slogan \"Jai Jawan, Jai Kisan\". A soldier sacrifices himself at the border and protects Mother India. Similarly, a farmer serves Mother India by filling the godowns with grains. This is also nation`s service. Filling the granary is the biggest nation`s service that a farmer provides. That is why Lal Bahadur Shashtri had given the slogan of \"Jai Jawan, Jai Kisan\".\n",
      "Brothers and Sisters, I would like to pose a question to my youngsters as to why despite them, we are forced to import even the smallest of things? My country`s youth can resolve it, they should conduct research, try to find out as to what type of items are imported by India and then each one should resolve that, through may be micro or small industries only, he would manufacture atleast one such item so that we need not import the same in future. We should even advance to a situation wherein we are able to export such items. If each one of our millions of youngsters resolves to manufacture atleast one such item, India can become a net exporter of goods. I, therefore, urge upon the youth, in particular our small entrepreneurs that they would never compromise, atleast on two counts. First, zero defect and, second again zero effect. We should manufacture goods in such a way that they carry zero defect, that our exported goods are never returned to us. We should manufacture goods with zero effect that they should not have a negative impact on the environment. If we march ahead with the dream of zero defect in the manufacturing sector then, my brothers and sisters, I am confident that we would be able to achieve our goals.\n",
      "            Brothers and sisters, the youth of India has completely transformed the identity of India in the world. Earlier, in what manner did the world know our country?  Till only 25-30 years back, if not more, there were many people in the world who thought that India was a country of snake charmers, it was a country which practiced in black magic. The real identity of India had not reached the world, but my dear brothers and sisters, our youngsters, 20-22-23 years old youngsters have mesmerized the whole world with their skills in computers. Our young I.T. professionals have given a new path of making a new identity of India. If our country has this strength, can we think something about the country? Our dream is, therefore, of \"Digital India\". When I talk of \"Digital India\", I don`t speak of the elite, it is for the poor people. You can imagine what a quality education the children in villages will get, if all the villages of India are connected with Broadband Connectivity and if we are able to give long distance education to the schools in every remote corner of the villages. If we create a network of telemedicine in the places where there is a shortage of doctors, we can have a clear guideline of the way in which health facilities have to be provided to the poor people living in those areas. The citizens of India have mobile phones in their hands, they have mobile connectivity, but can we walk in the direction of mobile governance? We have to move in a direction where every poor person is able to operate his bank account from his mobile, is able to demand various things from the government, can submit applications, can conduct all his business, while on the move, through mobile governance and if this has to be done, we have to move towards `digital India` and if we have to move towards `digital India` then we have a dream. Today we are importing electronic goods on a large scale. Friends, you will be surprised that we are bringing in these televisions, mobile phones, i-pads and all these electronic goods. It is a necessity to import petroleum products, oil, diesel and petrol. Second to this is the import of our electronic goods. If we move ahead with the dream of `digital India` to manufacture electronic goods and become self reliant at least there, how big can be the benefit for the treasury! Therefore, e-governance is what we need to take this idea of `digital India` forward. E-governance is easy governance, effective governance and also economic governance. E-governance paves the way for good governance. There was a time when we used to say that the railways provided connectivity to the country. That was it. I say that today it is IT that has the potential to connect each and every citizen of the country and that is why we want to realise the mantra of unity with the help of `digital India`.\n",
      "          Brothers and sisters, if we move ahead with all this then I believe that a `digital India` will have the potential to stand with the world on equal footing. Our youth have that capability, it is an opportunity for them.\n",
      "Brothers and sisters, we want to promote tourism. Tourism provides employment to the poorest of the poor. Gram seller earns something, auto-rickshaw driver earns something, pakoda seller earns something and tea seller also earns something. When there is talk of tea seller, I feel a sense of belongingness. Tourism provide employment to the poorest of the poor. But there is a big obstacle in promoting tourism and in our national character and that is - the filthiness all around us. Whether after independence, after so many years of independence, when we stand at the threshold of one and half decade of 21st century, we still want to live in filthiness? The first work I started here after formation of Government is of cleanliness. People wondered whether it is a work of a Prime Minister? People may feel that it is a trivial work for a Prime Minister but for me this a big work. Cleanliness is very big work. Whether our country can not be clean? If one hundred and twenty five crore countrymen decide that they will never spread filthiness, which power in the world has ability to spread filthiness in our cities and villages? Can`t we resolve this much?\n",
      "Brothers and sisters it will be 150th birth anniversary of Mahatma Gandhi in 2019. How do we celebrate 150th birth anniversary of Mahatma Gandhi? Mahatma Gandhi, who gave us freedom, who brought so much honour to such a big country in the world, what do we give to Mahatma Gandhi? Brothers and Sisters, Mahatma Gandhi had cleanliness and sanitation closest to his heart. Whether we resolve not to leave a speck of dirt in our village, city, street, area, school, temple, hospital, and what have you,  by 2019 when we celebrate 150th anniversary of Mahatma Gandhi? This happens not just with the Government, but with public participation. That`s why we have to do it together.\n",
      "            Brother and Sisters, we are living in 21st century. Has it ever pained us that our mothers and sisters have to defecate in open? Whether dignity of women is not our collective responsibility? The poor womenfolk of the village wait for the night; until darkness descends, they can`t go out to defecate. What bodily torture they must be feeling, how many diseases that act might engender. Can`t we just make arrangements for toilets for the dignity of our mothers and sisters? Brothers and Sisters, somebody might feel that a big festival like 15th August is an occasion to talk big. Brothers and Sisters, talking big has its importance, making announcements too has importance, but sometimes announcements raise hopes and when the hopes are not fulfilled, the society sinks into a state of despondency. That`s why are in favour of telling those things, which we can fulfil just within our sight. Brothers and sisters, you must be getting shocked to hear the Prime Minister speaking of cleanliness and the need to build toilets from the ramparts of the Red Fort. Brothers and sisters, I do not know how my speech is going to be criticised and how will people take it. But this is my heartfelt conviction. I come from a poor family, I have seen poverty. The poor need respect and it begins with cleanliness. I, therefore, have to launch a `clean India` campaign from 2nd October this year and carry it forward in 4 years. I want to make a beginning today itself and that is - all schools in the country should have toilets with separate toilets for girls. Only then our daughters will not be compelled to leave schools midway. Our parliamentarians utilizing MPLAD fund are there. I appeal to them to spend it for constructing toilets in schools for a year. The government should utilise its budget on providing toilets. I call upon the corporate sector also to give priority to the provision of toilets in schools with your expenditure under Corporate Social Responsibility. This target should be finished within one year with the help of state governments and on the next 15th August, we should be in a firm position to announce that there is no school in India without separate toilets for boys and girls.\n",
      "Brothers and sisters, if we proceed with the dreams, we are in a position to realise them. Today, I wish to tell one more specific thing. It has its own importance to discuss the matters and express the views of nation`s interest. However, our Members of Parliament do not get opportunity though they are willing to do something. They can express themselves, write to the government, agitate, give memoranda. Still they do not get opportunity to do something on their own. Today I have come to you with a new idea. We are running so many schemes in the name of the Prime Minister in our country, there are numerous schemes in the name of various leaders. However, today I am going to announce a scheme on behalf of the Member of Parliament- `Sansad Aadarsh Gram Yojana`. We shall fix some parameters. I urge upon the Members of Parliament to select any one of the villages having population of three to five thousand in your constituency. The parameters will be according to the time, space and situation of that locality. It will include the conditions of health, cleanliness, atmosphere, greenery, cordiality etc. On the basis of those parameters, each of our MPs should make one village of his or her constituency a Model Village by 2016. Can`t we do at least this? Shouldn`t we do this? If we have to build a nation, we should start from the village. Make a Model Village. The reason of fixing this target for 2016 is that it is a new scheme. It takes time to formulate a scheme and then to implement it. After 2016, select two more villages for this purpose, before we go for the General Elections in 2019. And after 2019, each Member of Parliament, during his/her tenure of 5 years must establish at-least five model villages in his/her area. I also call upon the Members of Parliament from urban areas to adopt one village of their choice. I also urge upon the Members of Parliament from Rajya Sabha to adopt one of the villages. If we provide one model village in each district of India then the surrounding villages shall be automatically inspired to follow that model. Let us establish a model village, let us establish a village well equipped with all systems and facilities. The birth anniversary of Jai Prakash Narayan Ji happens to be on 11th October. On 11th October, the occasion of birth anniversary of Jai Prakash Narayan Ji, I will present a complete blueprint of \"S\u0101nsad Adharsh Gr\u0101m Yojana\" (Members of Parliament Model Village Scheme) before all Members of Parliament and State Governments, and I urge upon State Governments also that as per the feasibility in their respective states, all the Members of Legislative Assembly resolve to establish a model village. You can imagine all the Members of Legislative Assembly and all the Members of Parliament in the country establishing a model village. All of a sudden, there would be a model village in each block of India which could inspire us to transform the amenities in rural areas and could give us a new direction and, therefore, we want to move ahead under this \"S\u0101nsad Adarsh Gr\u0101m Yojana\".\n",
      "            My dear brothers and sisters, ever since our government has taken charge, there has been a discussion in the newspapers, on T.V. channels as to what would happen to Planning Commission. I believe that when Planning Commission was constituted, it was done on the basis of the circumstances and the needs of those times. In recent years, Planning Commission has contributed to the growth of the country in its own way. I respect that, I am proud of that, but the prevalent situation in the country is different, global scenario has also changed, governments are no longer the centre of economic activities, the scope of such activities has broadened. State governments have been at the center of development and I consider this a good indication. If we have to take India forward, it can happen only by taking the states forward.  India`s federal structure is more important today than in the last 60 years. To strengthen our federal structure, to make our federal structure vibrant, to take our federal structure as a heritage of development, a team of Chief Minister and Prime Minister should be there, a joint team of the Centre and the states should move forward, then to do this job, we will have to think about giving the Planning Commission a look. So, I am saying from the rampart of the Red Fort that it is a very old system and it will have to be rejuvenated, it will have to be changed a lot. Sometimes it costs more to repair the old house, but, it gives us no satisfaction. Thereafter, we have a feeling that it would be better to construct a new house altogether and therefore within a short period, we will replace the planning commission with a new institution having a new design and structure, a new body, a new soul, a new thinking, a new direction, a new faith towards forging a new direction to lead the country based on creative thinking, public-private partnership, optimum utilization of resources, utilization of youth power of the nation, to promote the aspirations of state governments seeking development, to empower the state governments and to empower the federal structure. Very shortly, we are about to move in a direction when this institute would be functioning in place of Planning Commission.\n",
      "Brothers and sisters, today, on 15th August, we also have the birth anniversary of Maharishi Aurobindo. Maharishi Aurobindo, being a rebel, moved on to achieve the status of a Yoga Guru. With regard to the destiny of India, he remarked, \"I have a faith that the divine power and spiritual heritage of India will play an important role towards the welfare of the world.\" Such sentiments were echoed by Maharishi Arvind. I strongly believe in the words of legends. I have great faith in the statements made by ascetics, sages & saints and that\u2019s why today at the ramparts of Lal Quila I am reminded of the words of Swami Viveknanda. He had said - \"I can see before my eyes Mother India awakening once again. My Mother India would be seated as the World Guru. Every Indian would render service towards welfare of humanity. This legacy of India would be useful for the welfare of the world\". These words were spoken by Swami Viveknanda ji in his own style. Friends, the words of Viveknanda ji can never be untrue. The words of Viveknanda ji, his dream of seeing India ensconced as World Guru, his vision, it is incumbent upon us to realize that dream. This capable country, blessed with natural bounty, this country of youth can do much for the world in the coming days.\n",
      "            Brothers and sisters, our foreign policy is a much talked about issue. I clearly believe that India`s foreign policy can be multi-dimensional. But there is an important issue to which I want to draw your attention that the way we fought for freedom, we fought together, we were not separate at that time. We were together. Which was the government with us? What were the weapons available to us? There was a Gandhi, a Sardar and lakhs of freedom fighters and such a huge empire. Didn`t we win in the struggle of freedom against that empire? Did we not defeat the foreign powers? Did we not force them to leave India? We were the ones, they were our ancestors only who showed this might. If the people of India could remove such a big empire without the power of the government, without weapons and even without resources, then friends, it is the need of the hour to eradicate poverty, can we not overcome poverty? Can we not defeat poverty? My 125 crore dear countrymen, let us resolve to eradicate poverty, to win against it. Let us move with the dream of poverty eradication from India. Our neighbouring countries are also faced with the same problem. Why not get together with all the SAARC nations to plan out the fight against poverty? Let`s fight together and defeat poverty. Let us see at-least for once as to how wonderful is the feeling of being alive instead of killing and getting killed. This is the land where incidents from Siddharth`s life happened. One bird was shot with an arrow by one brother and the other took out that arrow to save it. They went to mother- whose bird, whose swan? Whether killer`s or saviour`s, they asked of mother. The mother replied, saviour`s. The saviour has more power than the killer and that makes him Buddha in future. And that`s why I seek cooperation from neighbouring countries for fighting against poverty in concert and cooperate with them, so that together with SAARC countries we can create our importance and emerge as a power in the world. It is imperative that we work together with a dream to win a fight against poverty, shoulder to shoulder. I went to Bhutan, Nepal, all the dignitaries from SAARC countries took part in oath-taking ceremony; this marked a good beginning. This will definitely yield good results, it is my belief and this thinking of India, in the country and the world, that we want to do well to the countrymen and be useful for the welfare of the world, India wants such a hand to be extended. We are trying to move forward with these dreams to achieve them.\n",
      "Brothers and Sisters, today on 15th August we will resolve to do something for the country. Let`s be useful for the country, we will move ahead with a resolve to take the country forward, and I assure you, Brothers and Sisters, as well as my colleagues in the Government, that if you work for 12 hours, I will do so for 13 hours. If you work for 14 hours, I will do for 15 hours. Why? Because I`m amidst you not as a Prime Minister, but as the first servant. I have formed the Government not as a ruler, but as a servant. Brothers and sisters, I assure that this country has a destiny. It is destined to work for the welfare of the world, it was said by Vivekanand ji. India is born, this Hindustan is born in order to achieve this destiny. One hundred and twenty five crore countrymen have to move forward wholeheartedly for the welfare of the nation.\n",
      "            Once again I feel proud of the devotion, the sacrifices of the security forces of the country, para-military forces of the country, all the security forces of the country to protect Mother India. I say to the countrymen, \"\u0930\u093e\u0937\u094d\u091f\u094d\u0930\u092f\u093e\u092e, \u091c\u093e\u0917\u094d\u0930\u092f\u093e\u092e\u094d \u0935\u092f\u092e\u094d\", \"Eternal vigilance is the price of liberty\". The army is vigilant, we should also be vigilant and the country scales new heights, we have to move forward with this resolution. Speak loudly with me with full force -\n",
      "Bharat mata ki jai, bharat mata ki jai, bharat mata ki jai.\n",
      "Jai Hind, Jai Hind, Jai Hind.\n",
      "Vande Mataram, Vande Mataram, Vande Mataram!\n",
      "\"\"\""
     ],
     "language": "python",
     "metadata": {},
     "outputs": [],
     "prompt_number": 2
    },
    {
     "cell_type": "code",
     "collapsed": false,
     "input": [
      "words=indispeech.split() # Split into Words"
     ],
     "language": "python",
     "metadata": {},
     "outputs": [],
     "prompt_number": 3
    },
    {
     "cell_type": "code",
     "collapsed": false,
     "input": [
      "# process words\n",
      "words = filter(lambda w: len(w) >= 5, words) # keep only 5-letter words\n"
     ],
     "language": "python",
     "metadata": {},
     "outputs": [],
     "prompt_number": 23
    },
    {
     "cell_type": "code",
     "collapsed": false,
     "input": [
      "words = filter(str.isalpha, words) # no punctuation or number\n"
     ],
     "language": "python",
     "metadata": {},
     "outputs": [],
     "prompt_number": 24
    },
    {
     "cell_type": "code",
     "collapsed": false,
     "input": [
      "words = filter(str.islower, words) # convert lower case"
     ],
     "language": "python",
     "metadata": {},
     "outputs": [],
     "prompt_number": 25
    },
    {
     "cell_type": "code",
     "collapsed": false,
     "input": [
      "#import the awesome counter from Standard collections module\n",
      "from collections import Counter\n",
      "from pprint import pprint"
     ],
     "language": "python",
     "metadata": {},
     "outputs": [],
     "prompt_number": 26
    },
    {
     "cell_type": "code",
     "collapsed": false,
     "input": [
      "# Find frquency\n",
      "frequency = Counter(words)"
     ],
     "language": "python",
     "metadata": {},
     "outputs": [],
     "prompt_number": 27
    },
    {
     "cell_type": "markdown",
     "metadata": {},
     "source": [
      "##So the top 25 words are ....."
     ]
    },
    {
     "cell_type": "code",
     "collapsed": false,
     "input": [
      "# print top 25 Words\n",
      "top25=frequency.most_common()[:25]\n",
      "pprint(top25)"
     ],
     "language": "python",
     "metadata": {},
     "outputs": [
      {
       "output_type": "stream",
       "stream": "stdout",
       "text": [
        "[('country', 47),\n",
        " ('should', 28),\n",
        " ('their', 26),\n",
        " ('world', 21),\n",
        " ('people', 21),\n",
        " ('those', 14),\n",
        " ('today', 14),\n",
        " ('which', 14),\n",
        " ('resolve', 14),\n",
        " ('would', 13),\n",
        " ('forward', 13),\n",
        " ('welfare', 11),\n",
        " ('governments', 11),\n",
        " ('there', 11),\n",
        " ('brothers', 11),\n",
        " ('after', 10),\n",
        " ('could', 10),\n",
        " ('youth', 10),\n",
        " ('whether', 10),\n",
        " ('every', 9),\n",
        " ('nation', 9),\n",
        " ('festival', 9),\n",
        " ('government', 9),\n",
        " ('where', 8),\n",
        " ('national', 8)]\n"
       ]
      }
     ],
     "prompt_number": 30
    },
    {
     "cell_type": "markdown",
     "metadata": {},
     "source": [
      "# Just for fun, ran the Speech through a Markov chain\n",
      "Markov chain code inspired from [here](http://pythonadventures.wordpress.com/2014/01/23/generating-pseudo-random-text-using-markov-chains/)"
     ]
    },
    {
     "cell_type": "code",
     "collapsed": false,
     "input": [
      "from random import choice\n",
      " \n",
      "EOS = ['.', '?', '!']\n",
      " \n",
      "def build_dict(words):\n",
      "    \"\"\"\n",
      "    Build a dictionary from the words.\n",
      " \n",
      "    (word1, word2) => [w1, w2, ...]  # key: tuple; value: list\n",
      "    \"\"\"\n",
      "    d = {}\n",
      "    for i, word in enumerate(words):\n",
      "        try:\n",
      "            first, second, third = words[i], words[i+1], words[i+2]\n",
      "        except IndexError:\n",
      "            break\n",
      "        key = (first, second)\n",
      "        if key not in d:\n",
      "            d[key] = []\n",
      "        d[key].append(third)\n",
      " \n",
      "    return d\n",
      " \n",
      " \n",
      "def generate_sentence(d):\n",
      "    temp = [key for key in d.keys() if key[0][0].isupper()]\n",
      "    key = choice(temp)\n",
      " \n",
      "    wli = []\n",
      "    first, second = key\n",
      "    wli.append(first)\n",
      "    wli.append(second)\n",
      "    while True:\n",
      "        try:\n",
      "            third = choice(d[key])\n",
      "        except KeyError:\n",
      "            break\n",
      "        wli.append(third)\n",
      "        if third[-1] in EOS:\n",
      "            break\n",
      "        key = (second, third)\n",
      "        first, second = key\n",
      " \n",
      "    return ' '.join(wli)"
     ],
     "language": "python",
     "metadata": {},
     "outputs": [],
     "prompt_number": 52
    },
    {
     "cell_type": "markdown",
     "metadata": {},
     "source": [
      "####Build the markov chain with the words in the speech"
     ]
    },
    {
     "cell_type": "code",
     "collapsed": false,
     "input": [
      "words=indispeech.split()\n",
      "d = build_dict(words)"
     ],
     "language": "python",
     "metadata": {},
     "outputs": [],
     "prompt_number": 53
    },
    {
     "cell_type": "markdown",
     "metadata": {},
     "source": [
      "#### Generate a random one liner text using the Markov Chain"
     ]
    },
    {
     "cell_type": "code",
     "collapsed": false,
     "input": [
      "sent = generate_sentence(d)\n",
      "print(sent)"
     ],
     "language": "python",
     "metadata": {},
     "outputs": [
      {
       "output_type": "stream",
       "stream": "stdout",
       "text": [
        "If the people world over, from the village.\n"
       ]
      }
     ],
     "prompt_number": 78
    },
    {
     "cell_type": "markdown",
     "metadata": {},
     "source": [
      "#### Generate a random paragraph using the Markov Chain"
     ]
    },
    {
     "cell_type": "code",
     "collapsed": false,
     "input": [
      "text=\"\"\n",
      "for i in range(10):\n",
      "     sent = generate_sentence(d)\n",
      "     text+=sent+\" \"\n",
      "print(text)"
     ],
     "language": "python",
     "metadata": {},
     "outputs": [
      {
       "output_type": "stream",
       "stream": "stdout",
       "text": [
        "India, we have inherited from our architects of the elite, it is for the country should have toilets with separate toilets for boys and girls. I was astonished. That thing, I want to awaken that power, I want to ask their son as to where he is going to be rejuvenated, it will have to liberate from it, and that is - the filthiness all around us. Parliament, I also call upon the youth of India had not reached the world, from electrical to electronics, \"Come, Make in India\", paper or plastic, \"Come, Make in India\", satellite or submarine \"Come, Make in India\", I say to the country. Whether after independence, it is a necessity to import petroleum products, oil, diesel and petrol. If every parent that you have a rising feeling of being alive instead of killing and getting killed. Swami Viveknanda ji can never be untrue. Yojana\". My dear countrymen, believe in the Government not as a social and national character. Can we not defeat the foreign powers? Independence, we have to move forward with the Government, not an assembled entity, but an organic entity, a harmonious whole- with one aim, one mind, one direction, one energy. \n"
       ]
      }
     ],
     "prompt_number": 84
    },
    {
     "cell_type": "code",
     "collapsed": false,
     "input": [],
     "language": "python",
     "metadata": {},
     "outputs": []
    }
   ],
   "metadata": {}
  }
 ]
}