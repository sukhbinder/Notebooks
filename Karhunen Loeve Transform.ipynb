{
 "metadata": {
  "name": "",
  "signature": "sha256:06a9e156aef9acd3e08de765ba3a78749983701f639eaa99567878abea2c9e37"
 },
 "nbformat": 3,
 "nbformat_minor": 0,
 "worksheets": [
  {
   "cells": [
    {
     "cell_type": "heading",
     "level": 1,
     "metadata": {},
     "source": [
      "Karhunen Loeve Transform in Python"
     ]
    },
    {
     "cell_type": "markdown",
     "metadata": {},
     "source": [
      "Karhunen Loeve Transform relies on the covariance matrix of a set of observation vectors. The basic algotithm is explained in these [excellent lectures](http://fourier.eng.hmc.edu/e161/lectures/klt/node3.html)\n",
      "\n",
      "And to see the KL transform in action visit [wolfram.com](http://reference.wolfram.com/language/ref/KarhunenLoeveDecomposition.html)\n"
     ]
    },
    {
     "cell_type": "code",
     "collapsed": false,
     "input": [
      "import numpy as np"
     ],
     "language": "python",
     "metadata": {},
     "outputs": [],
     "prompt_number": 1
    },
    {
     "cell_type": "code",
     "collapsed": false,
     "input": [
      "def KLT(a):\n",
      "    \"\"\"\n",
      "    Returns Karhunen Loeve Transform of the input and the transformation matrix and eigenval\n",
      "    \n",
      "    Ex:\n",
      "    import numpy as np\n",
      "    a  = np.array([[1,2,4],[2,3,10]])\n",
      "    \n",
      "    kk,m = KLT(a)\n",
      "    print kk\n",
      "    print m\n",
      "    \n",
      "    # to check, the following should return the original a\n",
      "    print np.dot(kk.T,m).T\n",
      "        \n",
      "    \"\"\"\n",
      "    val,vec = np.linalg.eig(np.cov(a))\n",
      "    klt = np.dot(vec,a)\n",
      "    return klt,vec,val"
     ],
     "language": "python",
     "metadata": {},
     "outputs": [],
     "prompt_number": 2
    },
    {
     "cell_type": "heading",
     "level": 3,
     "metadata": {},
     "source": [
      "Example 1"
     ]
    },
    {
     "cell_type": "code",
     "collapsed": false,
     "input": [
      "a  = np.array([[1,2,4],[2,3,10]])\n",
      "print a,a.shape"
     ],
     "language": "python",
     "metadata": {},
     "outputs": [
      {
       "output_type": "stream",
       "stream": "stdout",
       "text": [
        "[[ 1  2  4]\n",
        " [ 2  3 10]] (2, 3)\n"
       ]
      }
     ],
     "prompt_number": 3
    },
    {
     "cell_type": "code",
     "collapsed": false,
     "input": [
      "kk,m,val = KLT(a)"
     ],
     "language": "python",
     "metadata": {},
     "outputs": [],
     "prompt_number": 4
    },
    {
     "cell_type": "code",
     "collapsed": false,
     "input": [
      "print kk\n",
      "print m\n",
      "print np.dot(kk.T,m).T\n",
      "print val"
     ],
     "language": "python",
     "metadata": {},
     "outputs": [
      {
       "output_type": "stream",
       "stream": "stdout",
       "text": [
        "[[-1.59602949 -2.86686851 -7.03449892]\n",
        " [-1.56610659 -2.18656465 -8.15572344]]\n",
        "[[-0.94564854 -0.32519048]\n",
        " [ 0.32519048 -0.94564854]]\n",
        "[[  1.   2.   4.]\n",
        " [  2.   3.  10.]]\n",
        "[  0.09810743  21.23522591]\n"
       ]
      }
     ],
     "prompt_number": 5
    },
    {
     "cell_type": "heading",
     "level": 3,
     "metadata": {},
     "source": [
      "Example 2"
     ]
    },
    {
     "cell_type": "code",
     "collapsed": false,
     "input": [
      "a= np.random.rand(20,5)*100\n",
      "kk,m,val = KLT(a)\n",
      "print val"
     ],
     "language": "python",
     "metadata": {},
     "outputs": [
      {
       "output_type": "stream",
       "stream": "stdout",
       "text": [
        "[  6.03748782e+03 +0.00000000e+00j   5.36177007e+03 +0.00000000e+00j\n",
        "   3.94526413e+03 +0.00000000e+00j   2.80078918e+03 +0.00000000e+00j\n",
        "  -2.80723774e-13 +2.73566185e-13j  -2.80723774e-13 -2.73566185e-13j\n",
        "   3.15308859e-13 +2.18787274e-13j   3.15308859e-13 -2.18787274e-13j\n",
        "  -3.21526974e-13 +3.59336478e-14j  -3.21526974e-13 -3.59336478e-14j\n",
        "   4.10392909e-13 +0.00000000e+00j   3.28554436e-13 +0.00000000e+00j\n",
        "   1.93536473e-13 +8.16943559e-14j   1.93536473e-13 -8.16943559e-14j\n",
        "  -1.00036413e-13 +1.08479990e-13j  -1.00036413e-13 -1.08479990e-13j\n",
        "   5.89399042e-14 +0.00000000e+00j  -1.01830548e-13 +0.00000000e+00j\n",
        "  -3.35517071e-14 +5.19296828e-14j  -3.35517071e-14 -5.19296828e-14j]\n"
       ]
      }
     ],
     "prompt_number": 6
    },
    {
     "cell_type": "code",
     "collapsed": false,
     "input": [
      "print kk[:,0]"
     ],
     "language": "python",
     "metadata": {},
     "outputs": [
      {
       "output_type": "stream",
       "stream": "stdout",
       "text": [
        "[ -19.88571370 +5.78613631j  -26.92980925 +1.1405507j\n",
        "  -71.38367367+16.51826228j   41.42575279 +1.77169163j\n",
        "   24.74718060 +7.73570152j   79.94127422 -8.9347779j\n",
        "  -16.92612673-11.09979081j  -21.37461321 +2.7563032j\n",
        "    7.03333553-10.45710615j   46.62805945+18.89607343j\n",
        "    4.58608380 -5.40369704j  146.04910424 +0.5710281j\n",
        "  -22.22228105 -2.42342784j  -16.60076029 -6.5282612j\n",
        "  -38.29552191 +9.07952442j   -6.48539692 +8.84928717j\n",
        "  -99.68353378 +9.9974666j   -65.96782860 -7.75414299j\n",
        "  -10.08531081-25.27053509j -101.15451537 -1.9404897j ]\n"
       ]
      }
     ],
     "prompt_number": 7
    },
    {
     "cell_type": "heading",
     "level": 3,
     "metadata": {},
     "source": [
      "Example 3"
     ]
    },
    {
     "cell_type": "code",
     "collapsed": false,
     "input": [
      "a=np.array([[0, 0, 1], [0, 1, 1]])\n",
      "kk,m,val = KLT(a)"
     ],
     "language": "python",
     "metadata": {},
     "outputs": [],
     "prompt_number": 8
    },
    {
     "cell_type": "code",
     "collapsed": false,
     "input": [
      "print kk"
     ],
     "language": "python",
     "metadata": {},
     "outputs": [
      {
       "output_type": "stream",
       "stream": "stdout",
       "text": [
        "[[  0.00000000e+00  -7.07106781e-01  -1.11022302e-16]\n",
        " [  0.00000000e+00   7.07106781e-01   1.41421356e+00]]\n"
       ]
      }
     ],
     "prompt_number": 9
    },
    {
     "cell_type": "code",
     "collapsed": false,
     "input": [
      "print m"
     ],
     "language": "python",
     "metadata": {},
     "outputs": [
      {
       "output_type": "stream",
       "stream": "stdout",
       "text": [
        "[[ 0.70710678 -0.70710678]\n",
        " [ 0.70710678  0.70710678]]\n"
       ]
      }
     ],
     "prompt_number": 10
    },
    {
     "cell_type": "code",
     "collapsed": false,
     "input": [
      "print val"
     ],
     "language": "python",
     "metadata": {},
     "outputs": [
      {
       "output_type": "stream",
       "stream": "stdout",
       "text": [
        "[ 0.5         0.16666667]\n"
       ]
      }
     ],
     "prompt_number": 11
    },
    {
     "cell_type": "markdown",
     "metadata": {},
     "source": [
      "Visit [wolfram.com](http://reference.wolfram.com/language/ref/KarhunenLoeveDecomposition.html) for some great practical results"
     ]
    }
   ],
   "metadata": {}
  }
 ]
}